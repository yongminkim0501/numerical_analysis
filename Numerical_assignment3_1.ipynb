{
  "nbformat": 4,
  "nbformat_minor": 0,
  "metadata": {
    "colab": {
      "provenance": [],
      "authorship_tag": "ABX9TyPW1I3sAkva/zHHOCfDtXFn",
      "include_colab_link": true
    },
    "kernelspec": {
      "name": "python3",
      "display_name": "Python 3"
    },
    "language_info": {
      "name": "python"
    }
  },
  "cells": [
    {
      "cell_type": "markdown",
      "metadata": {
        "id": "view-in-github",
        "colab_type": "text"
      },
      "source": [
        "<a href=\"https://colab.research.google.com/github/yongminkim0501/numerical_analysis/blob/main/Numerical_assignment3_1.ipynb\" target=\"_parent\"><img src=\"https://colab.research.google.com/assets/colab-badge.svg\" alt=\"Open In Colab\"/></a>"
      ]
    },
    {
      "cell_type": "code",
      "source": [
        "import numpy as np\n",
        "x = [0.1, 0.2, 0.4, 0.6, 0.9, 1.3, 1.5, 1.7, 1.8]\n",
        "y = [0.75, 1.25, 1.45, 1.25, 0.85, 0.55, 0.35, 0.28, 0.18]\n",
        "\n",
        "# y = (alpha_4*x) * (e)^(beta_4*x)\n",
        "def strlinregr(x,y):\n",
        "  n = len(x)\n",
        "  sumx = np.sum(x)\n",
        "  xbar = sumx/n\n",
        "  sumy = np.sum(y)\n",
        "  ybar = sumy/n\n",
        "  sumsqx = 0\n",
        "  sumxy = 0\n",
        "  for i in range(n):\n",
        "    sumsqx = sumsqx + x[i] ** 2\n",
        "    sumxy = sumxy + x[i]*y[i]\n",
        "  a1 = (n*sumxy - sumx*sumy)/(n*sumsqx-sumx**2)\n",
        "  a0 = ybar - a1*xbar\n",
        "  e = np.zeros((n))\n",
        "  sst = 0\n",
        "  sse = 0\n",
        "  for i in range(n):\n",
        "    e[i] = y[i] - (a0+a1*x[i])\n",
        "    sst = sst + (y[i])\n",
        "    sse = sse + e[i] ** 2\n",
        "  ssr = sst - sse\n",
        "  rsq = ssr / sst\n",
        "  se = np.sqrt(sse/(n-2))\n",
        "  return a0, a1, rsq, se\n",
        "\n",
        "a,b,c,d = strlinregr(x,y)\n",
        "\n",
        "print(a,b,c,d)"
      ],
      "metadata": {
        "colab": {
          "base_uri": "https://localhost:8080/"
        },
        "id": "vZw32GLt4Tyz",
        "outputId": "dd201112-ec9a-4592-80c6-ef1df28bbef1"
      },
      "execution_count": 2,
      "outputs": [
        {
          "output_type": "stream",
          "name": "stdout",
          "text": [
            "1.337970779220779 -0.603733766233766 0.9282815466010111 0.26607585196357963\n"
          ]
        }
      ]
    }
  ]
}